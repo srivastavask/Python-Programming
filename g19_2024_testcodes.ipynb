{
  "nbformat": 4,
  "nbformat_minor": 0,
  "metadata": {
    "colab": {
      "provenance": [],
      "authorship_tag": "ABX9TyONfSWRcrhPveaFcfcNLFld",
      "include_colab_link": true
    },
    "kernelspec": {
      "name": "python3",
      "display_name": "Python 3"
    },
    "language_info": {
      "name": "python"
    }
  },
  "cells": [
    {
      "cell_type": "markdown",
      "metadata": {
        "id": "view-in-github",
        "colab_type": "text"
      },
      "source": [
        "<a href=\"https://colab.research.google.com/github/srivastavask/Python-Programming/blob/main/Copy_of_Copy_of_g19_2024_testcodes.ipynb\" target=\"_parent\"><img src=\"https://colab.research.google.com/assets/colab-badge.svg\" alt=\"Open In Colab\"/></a>"
      ]
    },
    {
      "cell_type": "code",
      "execution_count": null,
      "metadata": {
        "id": "g9F5_CuJe1L4"
      },
      "outputs": [],
      "source": [
        "# Bitwise Operator\n",
        "# & bit wise and operator\n",
        "# | or operator pipe symbol\n",
        "# >> right shift  a >> 3\n",
        "# << left shift\n",
        "# ~ bit wise not operator\n",
        "# ^ bit wise xor operator  (x ^ y) < 0\n",
        "\n",
        "\n",
        "\n",
        "\n",
        "\n"
      ]
    },
    {
      "cell_type": "code",
      "source": [
        "print('helloworld!')    # functions, keywords and symbols (symbol table)"
      ],
      "metadata": {
        "id": "-L8ZFcGzhVcB",
        "outputId": "26128144-2adb-48f0-dffc-9ef3cbf14be4",
        "colab": {
          "base_uri": "https://localhost:8080/"
        }
      },
      "execution_count": null,
      "outputs": [
        {
          "output_type": "stream",
          "name": "stdout",
          "text": [
            "helloworld!\n"
          ]
        }
      ]
    },
    {
      "cell_type": "code",
      "source": [
        "# Test case is: printing bennett (string) as output\n",
        "# a = 'bennett'\n",
        "# print(a)          ctrl + /\n",
        "\n",
        "# b = 67\n",
        "# print(a+str(b))  # , works as and operator"
      ],
      "metadata": {
        "id": "kOTg3jQIpw90",
        "outputId": "996a7a96-c11a-43cc-cfa8-65966c2b64aa",
        "colab": {
          "base_uri": "https://localhost:8080/"
        }
      },
      "execution_count": null,
      "outputs": [
        {
          "output_type": "stream",
          "name": "stdout",
          "text": [
            "bennett67\n"
          ]
        }
      ]
    },
    {
      "cell_type": "code",
      "source": [
        "# a = input(\"Enter value for a:\")\n",
        "# b = input(\"Enter value for b:\")\n",
        "# c = float(a) + float(b)\n",
        "# # print('Addition is: {:.1f}'.format(c))\n",
        "# print(f'Addition is: {c}')"
      ],
      "metadata": {
        "colab": {
          "base_uri": "https://localhost:8080/"
        },
        "id": "6PjGKEIhr6PQ",
        "outputId": "76ac41ad-5b20-4938-9be5-8e3517dbb337"
      },
      "execution_count": null,
      "outputs": [
        {
          "output_type": "stream",
          "name": "stdout",
          "text": [
            "Enter value for a:34\n",
            "Enter value for b:45\n",
            "Addition is: 79.0\n"
          ]
        }
      ]
    },
    {
      "cell_type": "code",
      "source": [
        "# a = input(\"Enter one string\")[0]\n",
        "# if a in 'aeiou':\n",
        "#     print('vowel')\n",
        "# else:\n",
        "#     print('consonant')"
      ],
      "metadata": {
        "id": "NTCnu2doujCK"
      },
      "execution_count": null,
      "outputs": []
    },
    {
      "cell_type": "code",
      "source": [
        "# Conventional way of checking a number as even or odd\n",
        "# a = int(input('Enter an integer value:'))\n",
        "# if a % 2 == 0:\n",
        "#     print('Even')\n",
        "# else:\n",
        "#     print('Odd')\n",
        "\n",
        "# intuitive way for checking even and odd\n",
        "a = int(input('Enter an integer value:'))\n",
        "if (a & 1) == 0:\n",
        "    print('Even')\n",
        "else:\n",
        "    print('Odd')"
      ],
      "metadata": {
        "colab": {
          "base_uri": "https://localhost:8080/"
        },
        "id": "luN7K67TvUVs",
        "outputId": "297de827-b29b-4a44-b74b-f644fd090eee"
      },
      "execution_count": null,
      "outputs": [
        {
          "output_type": "stream",
          "name": "stdout",
          "text": [
            "Enter an integer value:2\n",
            "Even\n"
          ]
        }
      ]
    }
  ]
}
